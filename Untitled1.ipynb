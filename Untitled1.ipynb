{
 "cells": [
  {
   "cell_type": "markdown",
   "id": "ca7e7574",
   "metadata": {},
   "source": [
    "Peer-graded Assignment"
   ]
  },
  {
   "cell_type": "markdown",
   "id": "f209a1cc",
   "metadata": {},
   "source": [
    "Introduction:\n",
    "    This notebook is a introduction of Data science tool "
   ]
  },
  {
   "cell_type": "markdown",
   "id": "5e9635bc",
   "metadata": {},
   "source": [
    "    1.Python\n",
    "    2.C++\n",
    "    3.Java\n",
    "    4.R.\n",
    "    5.SQL"
   ]
  },
  {
   "cell_type": "markdown",
   "id": "c2522830",
   "metadata": {},
   "source": [
    "    1.Pandas\n",
    "    2.NumPy\n",
    "    3.SciKit-Learn\n",
    "    4.Matplotlib\n",
    "    5.selenium"
   ]
  },
  {
   "cell_type": "markdown",
   "id": "5f1258cd",
   "metadata": {},
   "source": [
    "| Data science tool | \n",
    "| --- | \n",
    "| Apache Spark | \n",
    "| BigML | \n",
    "\n"
   ]
  },
  {
   "cell_type": "markdown",
   "id": "b3e6811a",
   "metadata": {},
   "source": [
    "Introduction about arithmetic expression examples:\n",
    "    \n",
    "    \n",
    "Addition Operator: +\n",
    "\n",
    "x + y\n",
    "\n",
    "\n",
    "Subtraction Operator: –\n",
    "\n",
    "x – y\n",
    "\n",
    "Multiplication Operator: *\n",
    "\n",
    "x * y\n",
    "    "
   ]
  },
  {
   "cell_type": "code",
   "execution_count": null,
   "id": "21828c11",
   "metadata": {},
   "outputs": [],
   "source": []
  },
  {
   "cell_type": "code",
   "execution_count": 4,
   "id": "b9baa0c7",
   "metadata": {},
   "outputs": [
    {
     "name": "stdout",
     "output_type": "stream",
     "text": [
      "5\n"
     ]
    }
   ],
   "source": [
    "x = 2\n",
    "y = 3\n",
    "result = x + y\n",
    "print(result)"
   ]
  },
  {
   "cell_type": "code",
   "execution_count": 5,
   "id": "3b617abe",
   "metadata": {
    "scrolled": true
   },
   "outputs": [
    {
     "name": "stdout",
     "output_type": "stream",
     "text": [
      "24\n"
     ]
    }
   ],
   "source": [
    "result =(5 + 7) * 2\n",
    "print(result)"
   ]
  },
  {
   "cell_type": "code",
   "execution_count": null,
   "id": "8ca3692d",
   "metadata": {},
   "outputs": [],
   "source": []
  },
  {
   "cell_type": "code",
   "execution_count": 6,
   "id": "169e8bd2",
   "metadata": {
    "scrolled": false
   },
   "outputs": [
    {
     "name": "stdout",
     "output_type": "stream",
     "text": [
      "300 minutes equal to 5.0 hour\n"
     ]
    }
   ],
   "source": [
    "#Convert minute to hour\n",
    "\n",
    "M = 300\n",
    "H = M/60\n",
    "print(M,\"minutes equal to\",H,\"hour\")"
   ]
  },
  {
   "cell_type": "code",
   "execution_count": null,
   "id": "fe73b2c9",
   "metadata": {},
   "outputs": [],
   "source": []
  },
  {
   "cell_type": "code",
   "execution_count": null,
   "id": "8412fb7e",
   "metadata": {},
   "outputs": [],
   "source": []
  },
  {
   "cell_type": "markdown",
   "id": "26770756",
   "metadata": {},
   "source": [
    "Below the introduction of objectives: a) understand data science languages,b) understand data science tool. c) understand arithmetic expression examples:\n"
   ]
  },
  {
   "cell_type": "code",
   "execution_count": null,
   "id": "20595344",
   "metadata": {},
   "outputs": [],
   "source": []
  },
  {
   "cell_type": "markdown",
   "id": "7a97810c",
   "metadata": {},
   "source": [
    "HIU KIN LAU"
   ]
  },
  {
   "cell_type": "code",
   "execution_count": null,
   "id": "addbe2ff",
   "metadata": {},
   "outputs": [],
   "source": []
  }
 ],
 "metadata": {
  "kernelspec": {
   "display_name": "Python 3 (ipykernel)",
   "language": "python",
   "name": "python3"
  },
  "language_info": {
   "codemirror_mode": {
    "name": "ipython",
    "version": 3
   },
   "file_extension": ".py",
   "mimetype": "text/x-python",
   "name": "python",
   "nbconvert_exporter": "python",
   "pygments_lexer": "ipython3",
   "version": "3.9.7"
  }
 },
 "nbformat": 4,
 "nbformat_minor": 5
}
